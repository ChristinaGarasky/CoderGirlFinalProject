{
 "cells": [
  {
   "cell_type": "code",
   "execution_count": 86,
   "metadata": {},
   "outputs": [],
   "source": [
    "import matplotlib.pyplot as plt\n",
    "import seaborn as sns\n",
    "import pandas as pd\n",
    "import numpy as np\n",
    "import requests\n",
    "import time\n",
    "from pprint import pprint\n",
    "mydata = pd.read_csv(\"CoderGirlDataset2.csv\")"
   ]
  },
  {
   "cell_type": "code",
   "execution_count": 87,
   "metadata": {},
   "outputs": [
    {
     "name": "stdout",
     "output_type": "stream",
     "text": [
      "<class 'pandas.core.frame.DataFrame'>\n",
      "RangeIndex: 9654 entries, 0 to 9653\n",
      "Columns: 146 entries, QKEY to WEIGHT_W68\n",
      "dtypes: float64(119), int64(11), object(16)\n",
      "memory usage: 10.8+ MB\n"
     ]
    }
   ],
   "source": [
    "mydata.columns\n",
    "mydata.head()\n",
    "mydata.describe()\n",
    "mydata.info()\n"
   ]
  },
  {
   "cell_type": "code",
   "execution_count": 68,
   "metadata": {
    "scrolled": true
   },
   "outputs": [
    {
     "data": {
      "image/png": "[encoded data removed]",
      "text/plain": [
       "<Figure size 432x288 with 1 Axes>"
      ]
     },
     "metadata": {
      "needs_background": "light"
     },
     "output_type": "display_data"
    }
   ],
   "source": [
    "mydata['F_SEX'].replace(2, 'Female', inplace = True)\n",
    "mydata['F_SEX'].replace(1, 'Male', inplace = True)\n",
    "\n",
    "\n",
    "\n",
    "sex_plot = sns.countplot(x=\"F_SEX\",data=mydata)\n",
    "\n",
    "\n"
   ]
  },
  {
   "cell_type": "code",
   "execution_count": 72,
   "metadata": {},
   "outputs": [
    {
     "data": {
      "image/png": "[encoded data removed]",
      "text/plain": [
       "<Figure size 432x288 with 1 Axes>"
      ]
     },
     "metadata": {
      "needs_background": "light"
     },
     "output_type": "display_data"
    }
   ],
   "source": [
    "mydata['F_AGECAT'].replace(1, '18-24', inplace = True)\n",
    "mydata['F_AGECAT'].replace(2, '25-34', inplace = True)\n",
    "mydata['F_AGECAT'].replace(3, '35-44', inplace = True)\n",
    "mydata['F_AGECAT'].replace(4, '45-54', inplace = True)\n",
    "mydata['F_AGECAT'].replace(5, '55-64', inplace = True)\n",
    "mydata['F_AGECAT'].replace(6, '65+', inplace = True)\n",
    "\n",
    "age_plot = sns.countplot(x=\"F_AGECAT\",data=mydata)"
   ]
  },
  {
   "cell_type": "code",
   "execution_count": 77,
   "metadata": {},
   "outputs": [
    {
     "data": {
      "image/png": "[encoded data removed]",
      "text/plain": [
       "<Figure size 432x288 with 1 Axes>"
      ]
     },
     "metadata": {
      "needs_background": "light"
     },
     "output_type": "display_data"
    }
   ],
   "source": [
    "mydata['F_PARTY_FINAL'].replace(1, 'Republican', inplace = True)\n",
    "mydata['F_PARTY_FINAL'].replace(2, 'Democrat', inplace = True)\n",
    "mydata['F_PARTY_FINAL'].replace(3, 'Independent', inplace = True)\n",
    "mydata['F_PARTY_FINAL'].replace(4, 'Other', inplace = True)\n",
    "\n",
    "party_plot = sns.countplot(x=\"F_PARTY_FINAL\",data=mydata)\n"
   ]
  },
  {
   "cell_type": "code",
   "execution_count": null,
   "metadata": {},
   "outputs": [],
   "source": []
  },
  {
   "cell_type": "code",
   "execution_count": 35,
   "metadata": {},
   "outputs": [
    {
     "data": {
      "text/plain": [
       "QKEY                    0\n",
       "INTERVIEW_START_W68     0\n",
       "INTERVIEW_END_W68       0\n",
       "DEVICE_TYPE_W68         0\n",
       "LANG_W68                0\n",
       "                       ..\n",
       "F_HISP_ORIGIN          15\n",
       "F_YEARSINUS            46\n",
       "F_PARTYSUMIDEO          0\n",
       "FLAG_W68                0\n",
       "WEIGHT_W68              0\n",
       "Length: 146, dtype: int64"
      ]
     },
     "execution_count": 35,
     "metadata": {},
     "output_type": "execute_result"
    }
   ],
   "source": [
    "mydata.columns[mydata.isnull().any()]\n",
    "mydata.isnull().sum()\n",
    "\n"
   ]
  },
  {
   "cell_type": "code",
   "execution_count": 97,
   "metadata": {},
   "outputs": [
    {
     "name": "stdout",
     "output_type": "stream",
     "text": [
      "              QKEY INTERVIEW_START_W68 INTERVIEW_END_W68  DEVICE_TYPE_W68  \\\n",
      "0     1.001970e+05       6/7/2020 1:05    6/7/2020 19:16                3   \n",
      "1     1.002600e+05       6/7/2020 1:35     6/7/2020 1:58                3   \n",
      "2     1.003140e+05      6/6/2020 13:29    6/6/2020 13:50                2   \n",
      "3     1.003630e+05      6/5/2020 17:46    6/5/2020 17:57                2   \n",
      "4     1.004460e+05      6/5/2020 18:37    6/5/2020 18:49                1   \n",
      "...            ...                 ...               ...              ...   \n",
      "9649  2.020000e+11      6/10/2020 0:39    6/10/2020 0:48                2   \n",
      "9650  2.020000e+11      6/5/2020 18:19    6/5/2020 18:41                2   \n",
      "9651  2.020000e+11      6/5/2020 17:39    6/5/2020 18:09                2   \n",
      "9652  2.020000e+11      6/9/2020 15:47    6/9/2020 15:54                2   \n",
      "9653  2.020000e+11      6/7/2020 22:49    6/7/2020 23:50                2   \n",
      "\n",
      "      LANG_W68  FLOYDFOL_W68  FLOYDDISC_W68  FLOYDCOVER_W68  FLOYDATTN_W68  \\\n",
      "0            1           2.0            3.0             1.0            3.0   \n",
      "1            1           2.0            3.0             4.0            3.0   \n",
      "2            1           2.0            4.0             2.0            3.0   \n",
      "3            1           2.0            3.0             3.0            3.0   \n",
      "4            1           2.0            2.0             2.0            3.0   \n",
      "...        ...           ...            ...             ...            ...   \n",
      "9649         1           2.0            2.0             4.0            1.0   \n",
      "9650         2           1.0            3.0             2.0            1.0   \n",
      "9651         2           1.0            2.0             3.0            1.0   \n",
      "9652         2           3.0            4.0             3.0            3.0   \n",
      "9653         1           2.0            3.0             2.0            3.0   \n",
      "\n",
      "      FLOYDATTN2_a_W68  ...  F_VOLSUM  F_INC_TIER2  F_HISP_ORIGIN  \\\n",
      "0                  3.0  ...       1.0          2.0            6.0   \n",
      "1                  3.0  ...       2.0          2.0            6.0   \n",
      "2                  1.0  ...       1.0          2.0            6.0   \n",
      "3                  2.0  ...       1.0          3.0            6.0   \n",
      "4                  3.0  ...       1.0          2.0            6.0   \n",
      "...                ...  ...       ...          ...            ...   \n",
      "9649               3.0  ...       2.0          1.0            3.0   \n",
      "9650               3.0  ...       2.0          1.0            3.0   \n",
      "9651               1.0  ...       2.0          1.0            5.0   \n",
      "9652               2.0  ...       1.0          1.0            5.0   \n",
      "9653               3.0  ...       2.0          2.0            1.0   \n",
      "\n",
      "      F_YEARSINUS  F_PARTYSUMIDEO  FLAG_W68  WEIGHT_W68  M_RACEACTIVISM  \\\n",
      "0             1.0               3         2    0.312835             2.8   \n",
      "1             1.0               1         2    0.640210             3.2   \n",
      "2             1.0               2         2    0.432858             2.8   \n",
      "3             1.0               3         2    0.389315             2.6   \n",
      "4             1.0               4         2    0.284810             2.6   \n",
      "...           ...             ...       ...         ...             ...   \n",
      "9649          1.0               4         2    0.134519             1.4   \n",
      "9650          4.0               2         1    0.263669             3.0   \n",
      "9651          4.0               2         1    1.664526             2.8   \n",
      "9652          NaN               9         1    0.613067             3.0   \n",
      "9653          4.0               9         2    7.753641             2.6   \n",
      "\n",
      "      NewsInfo  M_NewsInfo  \n",
      "0     1.333333    1.333333  \n",
      "1     1.666667    1.666667  \n",
      "2     1.833333    1.833333  \n",
      "3     2.166667    2.166667  \n",
      "4     2.000000    2.000000  \n",
      "...        ...         ...  \n",
      "9649  1.333333    1.333333  \n",
      "9650  2.166667    2.166667  \n",
      "9651  1.333333    1.333333  \n",
      "9652  3.000000    3.000000  \n",
      "9653  2.000000    2.000000  \n",
      "\n",
      "[9654 rows x 149 columns]\n"
     ]
    }
   ],
   "source": [
    "#Creating the Race Activisim scale variable\n",
    "race_active = ((mydata[\"RACEACTIVISM_a_W68\"]+ mydata[\"RACEACTIVISM_b_W68\"] + mydata[\"RACEACTIVISM_c_W68\"] + mydata[\"RACEACTIVISM_d_W68\"] + mydata[\"RACEACTIVISM_e_W68\"])/5)\n",
    "\n",
    "mydata[\"M_RACEACTIVISM\"] = race_active\n",
    "\n",
    "news_info = ((mydata[\"NEWSHEARD_m_W68\"]+ mydata[\"NEWSHEARD_n_W68\"] + mydata[\"NEWSHEARD_o_W68\"]\n",
    "              + mydata[\"NEWSHEARD_g_W68\"] + mydata[\"NEWSHEARD_i_W68\"] + mydata[\"NEWSHEARD_j_W68\"])/6)\n",
    "\n",
    "mydata[\"M_NewsInfo\"] = news_info\n",
    "\n",
    "print(mydata)"
   ]
  },
  {
   "cell_type": "code",
   "execution_count": 102,
   "metadata": {},
   "outputs": [
    {
     "data": {
      "image/png": "[encoded data removed]",
      "text/plain": [
       "<Figure size 432x288 with 1 Axes>"
      ]
     },
     "metadata": {
      "needs_background": "light"
     },
     "output_type": "display_data"
    }
   ],
   "source": [
    "sns.scatterplot(data=mydata, x=\"M_NewsInfo\", y=\"M_RACEACTIVISM\")\n",
    "\n",
    "#correlation --> No correlation between News information and Activism\n",
    "mydata[\"M_NewsInfo\"].corr(mydata[\"M_RACEACTIVISM\"])\n",
    "\n",
    "plot = plt.scatter(mydata[\"M_NewsInfo\"], mydata[\"M_RACEACTIVISM\"])"
   ]
  },
  {
   "cell_type": "code",
   "execution_count": 104,
   "metadata": {},
   "outputs": [
    {
     "name": "stderr",
     "output_type": "stream",
     "text": [
      "c:\\users\\christie\\appdata\\local\\programs\\python\\python37\\lib\\site-packages\\seaborn\\distributions.py:2551: FutureWarning: `distplot` is a deprecated function and will be removed in a future version. Please adapt your code to use either `displot` (a figure-level function with similar flexibility) or `histplot` (an axes-level function for histograms).\n",
      "  warnings.warn(msg, FutureWarning)\n",
      "c:\\users\\christie\\appdata\\local\\programs\\python\\python37\\lib\\site-packages\\seaborn\\distributions.py:2551: FutureWarning: `distplot` is a deprecated function and will be removed in a future version. Please adapt your code to use either `displot` (a figure-level function with similar flexibility) or `histplot` (an axes-level function for histograms).\n",
      "  warnings.warn(msg, FutureWarning)\n"
     ]
    },
    {
     "data": {
      "image/png": "[encoded data removed]",
      "text/plain": [
       "<Figure size 432x216 with 2 Axes>"
      ]
     },
     "metadata": {
      "needs_background": "light"
     },
     "output_type": "display_data"
    }
   ],
   "source": [
    "g = sns.FacetGrid(mydata, col = \"F_SEX\")\n",
    "g.map(sns.distplot, \"F_AGECAT\", bins = 25)\n",
    "plt.show()"
   ]
  }
 ],
 "metadata": {
  "kernelspec": {
   "display_name": "Python 3",
   "language": "python",
   "name": "python3"
  },
  "language_info": {
   "codemirror_mode": {
    "name": "ipython",
    "version": 3
   },
   "file_extension": ".py",
   "mimetype": "text/x-python",
   "name": "python",
   "nbconvert_exporter": "python",
   "pygments_lexer": "ipython3",
   "version": "3.7.8"
  }
 },
 "nbformat": 4,
 "nbformat_minor": 4
}
